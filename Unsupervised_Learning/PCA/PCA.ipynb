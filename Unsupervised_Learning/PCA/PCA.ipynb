{
 "cells": [
  {
   "attachments": {},
   "cell_type": "markdown",
   "metadata": {},
   "source": [
    "# Principal Component Analysis (PCA) \n",
    "\n",
    "\n",
    "**Task:** Use PCA to reduce the dimensionality of the Wine dataset and then use the reduced dataset to train a classifier to predict the class of wine. Show the effect of PCA on the accuracy of the classifier.\n",
    "\n",
    "The [Wine Quality Dataset](https://scikit-learn.org/stable/modules/generated/sklearn.datasets.load_wine.html#) is a popular machine learning dataset used for classification tasks. It contains information on 178 different wines, each with 13 different features. The dataset is commonly used to classify wines into one of three different classes based on their chemical characteristics.\n",
    "\n",
    "Here are the variables in the Wine dataset:\n",
    "\n",
    "- Alcohol\n",
    "- Malic acid\n",
    "- Ash\n",
    "- Alcalinity of ash\n",
    "- Magnesium\n",
    "- Total phenols\n",
    "- Flavanoids\n",
    "- Nonflavanoid phenols\n",
    "- Proanthocyanins\n",
    "- Color intensity\n",
    "- Hue\n",
    "- OD280/OD315 of diluted wines\n",
    "- Proline\n",
    "\n",
    "The target variable in this dataset is the wine class, which is one of three possible values: class_0, class_1, or class_2. The dataset can be loaded using the `load_wine()` function from the scikit-learn library in Python.\n",
    "\n",
    "These classes represent different cultivars of the wine, namely:\n",
    "\n",
    "- class_0: 'Barolo' wines\n",
    "- class_1: 'Grignolino' wines\n",
    "- class_2: 'Barbera' wines"
   ]
  },
  {
   "cell_type": "code",
   "execution_count": null,
   "metadata": {
    "vscode": {
     "languageId": "plaintext"
    }
   },
   "outputs": [],
   "source": []
  }
 ],
 "metadata": {
  "language_info": {
   "name": "python"
  },
  "orig_nbformat": 4
 },
 "nbformat": 4,
 "nbformat_minor": 2
}
