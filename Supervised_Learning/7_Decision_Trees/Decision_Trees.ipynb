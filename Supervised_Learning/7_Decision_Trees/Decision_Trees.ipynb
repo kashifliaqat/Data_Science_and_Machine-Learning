{
 "cells": [
  {
   "attachments": {},
   "cell_type": "markdown",
   "metadata": {},
   "source": [
    "## Decision Tree\n",
    "\n",
    "[![Open In Colab](https://colab.research.google.com/assets/colab-badge.svg)](https://colab.research.google.com/github/kashifliaqat/Data_Science_and_Machine-Learning/blob/main/Supervised_Learning/7_Decision_Trees/Decision_Trees.ipynb)\n",
    "\n",
    "**Task:** Use decision tree algorithm to perform classification to predict whether a patient has diabetes or not.\n",
    "\n",
    "The [Diabetes Dataset](https://www.kaggle.com/datasets/mathchi/diabetes-data-set) is a collection of medical data from female patients of Pima Indian heritage. The dataset contains information on various medical variables, including glucose level, blood pressure, and body mass index, and their relation to the onset of diabetes in the patients.\n",
    "\n",
    "The dataset consists of 9 variables:\n",
    "\n",
    "1. Pregnancies: Number of times pregnant\n",
    "2. Glucose: Plasma glucose concentration a 2 hours in an oral glucose tolerance test\n",
    "3. BloodPressure: Diastolic blood pressure (mm Hg)\n",
    "4. SkinThickness: Triceps skin fold thickness (mm)\n",
    "5. Insulin: 2-Hour serum insulin (mu U/ml)\n",
    "6. BMI: Body mass index (weight in kg/(height in m)^2)\n",
    "7. DiabetesPedigreeFunction: Diabetes pedigree function\n",
    "8. Age: Age in years\n",
    "9. Outcome: Class variable (0 or 1)  indicating whether or not the patient developed diabetes within 5 years of the initial examination. A value of 1 indicates that the patient developed diabetes, while a value of 0 indicates that they did not develop diabetes."
   ]
  },
  {
   "cell_type": "code",
   "execution_count": 1,
   "metadata": {},
   "outputs": [],
   "source": [
    "# import libraries\n",
    "import seaborn as sns \n",
    "import pandas as pd\n",
    "import numpy as np\n",
    "import matplotlib.pyplot as plt\n",
    "from sklearn.model_selection import train_test_split, cross_val_score\n",
    "from sklearn.tree import DecisionTreeClassifier\n",
    "from sklearn.metrics import accuracy_score, classification_report, confusion_matrix\n",
    "from sklearn.preprocessing import StandardScaler\n",
    "from sklearn.model_selection import cross_val_score\n"
   ]
  },
  {
   "cell_type": "code",
   "execution_count": 2,
   "metadata": {},
   "outputs": [
    {
     "data": {
      "text/plain": [
       "Pregnancies                 0\n",
       "Glucose                     0\n",
       "BloodPressure               0\n",
       "SkinThickness               0\n",
       "Insulin                     0\n",
       "BMI                         0\n",
       "DiabetesPedigreeFunction    0\n",
       "Age                         0\n",
       "Outcome                     0\n",
       "dtype: int64"
      ]
     },
     "execution_count": 2,
     "metadata": {},
     "output_type": "execute_result"
    }
   ],
   "source": [
    "#import data\n",
    "df = pd.read_csv(\"https://raw.githubusercontent.com/kashifliaqat/Data_Science_and_Machine-Learning/main/Supervised_Learning/6_k_Nearest_Neighbors/dataset/diabetes.csv\")\n",
    "# check for null values\n",
    "df.isnull().sum()"
   ]
  },
  {
   "attachments": {},
   "cell_type": "markdown",
   "metadata": {},
   "source": [
    "### Data Visualization and Exploration\n",
    "A detailed visualization and exploration of the dataset can be found in the [K-Nearest Neighbors](https://github.com/kashifliaqat/Data_Science_and_Machine-Learning/blob/main/Supervised_Learning/6_k_Nearest_Neighbors/kNN_Classification.ipynb) notebook."
   ]
  },
  {
   "cell_type": "code",
   "execution_count": 3,
   "metadata": {},
   "outputs": [
    {
     "name": "stdout",
     "output_type": "stream",
     "text": [
      "Data Information:\n",
      "<class 'pandas.core.frame.DataFrame'>\n",
      "RangeIndex: 768 entries, 0 to 767\n",
      "Data columns (total 9 columns):\n",
      " #   Column                    Non-Null Count  Dtype  \n",
      "---  ------                    --------------  -----  \n",
      " 0   Pregnancies               768 non-null    int64  \n",
      " 1   Glucose                   768 non-null    int64  \n",
      " 2   BloodPressure             768 non-null    int64  \n",
      " 3   SkinThickness             768 non-null    int64  \n",
      " 4   Insulin                   768 non-null    int64  \n",
      " 5   BMI                       768 non-null    float64\n",
      " 6   DiabetesPedigreeFunction  768 non-null    float64\n",
      " 7   Age                       768 non-null    int64  \n",
      " 8   Outcome                   768 non-null    int64  \n",
      "dtypes: float64(2), int64(7)\n",
      "memory usage: 54.1 KB\n",
      "None\n"
     ]
    }
   ],
   "source": [
    "# Display data information\n",
    "print(\"Data Information:\")\n",
    "print(df.info())"
   ]
  },
  {
   "attachments": {},
   "cell_type": "markdown",
   "metadata": {},
   "source": [
    "The dataset contains 9 columns, where the Outcome column is the target variable that we are trying to predict. "
   ]
  },
  {
   "cell_type": "code",
   "execution_count": 4,
   "metadata": {},
   "outputs": [
    {
     "name": "stdout",
     "output_type": "stream",
     "text": [
      "   Pregnancies  Glucose  BloodPressure  SkinThickness  Insulin   BMI  \\\n",
      "0            6      148             72             35        0  33.6   \n",
      "1            1       85             66             29        0  26.6   \n",
      "2            8      183             64              0        0  23.3   \n",
      "3            1       89             66             23       94  28.1   \n",
      "4            0      137             40             35      168  43.1   \n",
      "\n",
      "   DiabetesPedigreeFunction  Age  Outcome  \n",
      "0                     0.627   50        1  \n",
      "1                     0.351   31        0  \n",
      "2                     0.672   32        1  \n",
      "3                     0.167   21        0  \n",
      "4                     2.288   33        1  \n"
     ]
    }
   ],
   "source": [
    "# Print the first 5 rows to check the data\n",
    "print(df.head())"
   ]
  },
  {
   "attachments": {},
   "cell_type": "markdown",
   "metadata": {},
   "source": [
    "### Data splitting and scaling\n",
    "Split the data into features and target variables. Then, split the data into training and testing sets. Finally, scale the data.\n"
   ]
  },
  {
   "cell_type": "code",
   "execution_count": 5,
   "metadata": {},
   "outputs": [],
   "source": [
    "# Split the data into X (features) and y (target variable)\n",
    "X = df.drop('Outcome', axis=1)\n",
    "y = df['Outcome']\n",
    "\n",
    "# Scaling\n",
    "scaler = StandardScaler()\n",
    "X = scaler.fit_transform(X)\n",
    "\n",
    "# Split the data into training and testing sets\n",
    "X_train, X_test, y_train, y_test = train_test_split(X, y, test_size=0.2, random_state=42)"
   ]
  },
  {
   "attachments": {},
   "cell_type": "markdown",
   "metadata": {},
   "source": [
    "### Model Building and Training\n",
    "A step-by-step breakdown of the implementation:\n",
    "\n",
    "1. Initialize a `DecisionTreeClassifier` object `dt` with hyperparameters `max_depth=3`, `criterion='gini'`, and `splitter='best'`.\n",
    "2. Use cross-validation with 5 folds to evaluate the accuracy of the model on the training set. The `cross_val_score` function calculates the accuracy of the model for each fold and returns an array of scores. The `scores.mean()` method calculates the average score across all folds and assigns it to `mean_cv_score`.\n",
    "3. Train the `dt` model on the entire training set using the `fit` method with `X_train` and `y_train` as arguments.\n",
    "4. Print the mean cross-validation accuracy `mean_cv_score`.\n"
   ]
  },
  {
   "cell_type": "code",
   "execution_count": 6,
   "metadata": {},
   "outputs": [
    {
     "name": "stdout",
     "output_type": "stream",
     "text": [
      "Mean CV Accuracy: 0.76\n"
     ]
    }
   ],
   "source": [
    "# create Decision Tree model\n",
    "dt = DecisionTreeClassifier(max_depth=3, criterion='gini', splitter='best')\n",
    "\n",
    "# perform 5-fold cross-validation and calculate mean accuracy\n",
    "cv_scores = cross_val_score(dt, X_train, y_train, cv=5, scoring='accuracy')\n",
    "mean_cv_score = cv_scores.mean()\n",
    "\n",
    "# train the Decision Tree model on the entire training set\n",
    "dt.fit(X_train, y_train)\n",
    "\n",
    "# print mean cross-validation accuracy and accuracy score\n",
    "print(f'Mean CV Accuracy: {mean_cv_score:.2f}')"
   ]
  },
  {
   "attachments": {},
   "cell_type": "markdown",
   "metadata": {},
   "source": [
    "### Model Evaluation"
   ]
  },
  {
   "cell_type": "code",
   "execution_count": 7,
   "metadata": {},
   "outputs": [
    {
     "name": "stdout",
     "output_type": "stream",
     "text": [
      "Training accuracy: 0.777\n",
      "Testing accuracy: 0.760\n",
      "              precision    recall  f1-score   support\n",
      "\n",
      "           0       0.80      0.84      0.82        99\n",
      "           1       0.68      0.62      0.65        55\n",
      "\n",
      "    accuracy                           0.76       154\n",
      "   macro avg       0.74      0.73      0.73       154\n",
      "weighted avg       0.76      0.76      0.76       154\n",
      "\n"
     ]
    }
   ],
   "source": [
    "# Evaluate the model on the training set\n",
    "y_train_pred = dt.predict(X_train)\n",
    "train_acc = accuracy_score(y_train, y_train_pred)\n",
    "\n",
    "# Evaluate the model on the testing set\n",
    "y_test_pred = dt.predict(X_test)\n",
    "test_acc = accuracy_score(y_test, y_test_pred)\n",
    "\n",
    "# Print the accuracy scores\n",
    "print(f\"Training accuracy: {train_acc:.3f}\")\n",
    "print(f\"Testing accuracy: {test_acc:.3f}\")\n",
    "\n",
    "# Print the classification report\n",
    "print(classification_report(y_test, y_test_pred))"
   ]
  },
  {
   "attachments": {},
   "cell_type": "markdown",
   "metadata": {},
   "source": [
    "- The model is able to achieve testing accuracy of 76%. "
   ]
  },
  {
   "cell_type": "code",
   "execution_count": 8,
   "metadata": {},
   "outputs": [
    {
     "data": {
      "image/png": "[encoded data removed]",
      "text/plain": [
       "<Figure size 432x288 with 1 Axes>"
      ]
     },
     "metadata": {
      "needs_background": "light"
     },
     "output_type": "display_data"
    }
   ],
   "source": [
    "# Plot confusion matrix\n",
    "# Import metrics from sklearn \n",
    "from sklearn import metrics\n",
    "# The confusion matrix\n",
    "confusion_matrix = metrics.confusion_matrix(y_test, y_test_pred)\n",
    "# Convert confusion matrix into dataframe\n",
    "matrix_df = pd.DataFrame(confusion_matrix)\n",
    "#Plot confusion matrix\n",
    "plt.figure(figsize=(6, 4))\n",
    "ax = plt.axes()\n",
    "sns.set(font_scale=1.3)\n",
    "sns.heatmap(matrix_df,\n",
    "            annot = True, \n",
    "            fmt = \"g\",\n",
    "            ax = ax, \n",
    "            cmap = \"magma\", \n",
    "            cbar = False)\n",
    "ax.set_title(\"Confusion Matrix - KNN\")\n",
    "ax.set_xlabel(\"Predicted Label\", fontsize=15)\n",
    "ax.set_xticklabels([\"No Diabetes\", \"Diabetes\"])\n",
    "ax.set_ylabel(\"True Label\", fontsize=15)\n",
    "ax.set_yticklabels([\"No Diabetes\", \"Diabetes\"], rotation=0)\n",
    "plt.show()"
   ]
  },
  {
   "attachments": {},
   "cell_type": "markdown",
   "metadata": {},
   "source": [
    "### Hyperparameter Tuning Using GridSearchCV\n",
    "\n",
    "`GridSearchCV` is a method in scikit-learn that performs an exhaustive search over a specified parameter grid to find the optimal combination of hyperparameters for a machine learning model. \n"
   ]
  },
  {
   "cell_type": "code",
   "execution_count": 10,
   "metadata": {},
   "outputs": [
    {
     "name": "stdout",
     "output_type": "stream",
     "text": [
      "Accuracy:  0.7662337662337663\n",
      "              precision    recall  f1-score   support\n",
      "\n",
      "           0       0.81      0.84      0.82        99\n",
      "           1       0.69      0.64      0.66        55\n",
      "\n",
      "    accuracy                           0.77       154\n",
      "   macro avg       0.75      0.74      0.74       154\n",
      "weighted avg       0.76      0.77      0.76       154\n",
      "\n"
     ]
    }
   ],
   "source": [
    "# import GridSearchCV \n",
    "from sklearn.model_selection import GridSearchCV\n",
    "\n",
    "# define parameter grid\n",
    "param_grid = {'max_depth': [2, 3, 4, 5],\n",
    "              'criterion': ['gini', 'entropy'],\n",
    "              'splitter': ['best', 'random']}\n",
    "\n",
    "# create Decision Tree model\n",
    "dt = DecisionTreeClassifier()\n",
    "\n",
    "# create GridSearchCV object\n",
    "grid_search = GridSearchCV(dt, param_grid, cv=5, scoring='accuracy')\n",
    "\n",
    "# fit the grid search object to the data\n",
    "grid_search.fit(X_train, y_train)\n",
    "\n",
    "# extract the best estimator and its score\n",
    "best_dt = grid_search.best_estimator_\n",
    "best_score = grid_search.best_score_\n",
    "\n",
    "# predict class labels for test set using the best estimator\n",
    "y_pred = best_dt.predict(X_test)\n",
    "\n",
    "# print accuracy score and classification report\n",
    "print(\"Accuracy: \", accuracy_score(y_test, y_pred))\n",
    "print(classification_report(y_test, y_pred))"
   ]
  },
  {
   "attachments": {},
   "cell_type": "markdown",
   "metadata": {},
   "source": [
    "- Accuracy is slightly improved (less than 1%) using GridSearchCV."
   ]
  },
  {
   "attachments": {},
   "cell_type": "markdown",
   "metadata": {},
   "source": [
    "#### Calculate AUC Score and Plot ROC Curve\n",
    "The ROC curve is useful for selecting the best threshold value for making predictions based on the trade-off between sensitivity and specificity. The area under the curve (AUC) is a metric that summarizes the overall performance of the classifier, with a perfect classifier having an AUC of 1.\n",
    "<p align=\"center\"><img src=\"https://github.com/kashifliaqat/Data_Science_and_Machine-Learning/raw/main/Images/roc_curve.svg\" alt=\"ROC Curve\" width=\"500\" height=\"300\">"
   ]
  },
  {
   "cell_type": "code",
   "execution_count": 11,
   "metadata": {},
   "outputs": [
    {
     "data": {
      "image/png": "[encoded data removed]",
      "text/plain": [
       "<Figure size 432x288 with 1 Axes>"
      ]
     },
     "metadata": {},
     "output_type": "display_data"
    },
    {
     "name": "stdout",
     "output_type": "stream",
     "text": [
      "AUC: 0.80\n"
     ]
    }
   ],
   "source": [
    "from sklearn.metrics import roc_curve, roc_auc_score\n",
    "\n",
    "# predict class probabilities for test set\n",
    "y_prob = best_dt.predict_proba(X_test)[:, 1]\n",
    "\n",
    "# calculate AUC\n",
    "auc = roc_auc_score(y_test, y_prob)\n",
    "\n",
    "# plot ROC curve\n",
    "fpr, tpr, thresholds = roc_curve(y_test, y_prob)\n",
    "plt.plot(fpr, tpr, label=f'AUC = {auc:.2f}')\n",
    "plt.xlabel('False Positive Rate')\n",
    "plt.ylabel('True Positive Rate')\n",
    "plt.title('ROC Curve')\n",
    "plt.legend()\n",
    "plt.show()\n",
    "\n",
    "# print AUC value\n",
    "print(f'AUC: {auc:.2f}')"
   ]
  },
  {
   "attachments": {},
   "cell_type": "markdown",
   "metadata": {},
   "source": [
    "### Comparison with K-Nearest Neighbors\n",
    "The [KNN model](https://github.com/kashifliaqat/Data_Science_and_Machine-Learning/blob/main/Supervised_Learning/6_k_Nearest_Neighbors/kNN_Classification.ipynb) was able to achieve a testing accuracy of 76%, while the decision tree model achieved a testing accuracy of 77%. The decision tree model was able to achieve a slightly higher accuracy than the KNN model.\n",
    "- However the AUC score for the KNN model (0.82) is slightly higher than the decision tree model. This means that the KNN model is better at predicting the positive class (patients with diabetes) than the decision tree model."
   ]
  }
 ],
 "metadata": {
  "kernelspec": {
   "display_name": "base",
   "language": "python",
   "name": "python3"
  },
  "language_info": {
   "codemirror_mode": {
    "name": "ipython",
    "version": 3
   },
   "file_extension": ".py",
   "mimetype": "text/x-python",
   "name": "python",
   "nbconvert_exporter": "python",
   "pygments_lexer": "ipython3",
   "version": "3.8.5"
  },
  "orig_nbformat": 4
 },
 "nbformat": 4,
 "nbformat_minor": 2
}
