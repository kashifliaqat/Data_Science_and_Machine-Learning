{
 "cells": [
  {
   "attachments": {},
   "cell_type": "markdown",
   "metadata": {},
   "source": [
    "# Gradient Descent "
   ]
  },
  {
   "cell_type": "code",
   "execution_count": 39,
   "metadata": {},
   "outputs": [],
   "source": [
    "import numpy as np\n",
    "import matplotlib.pyplot as plt\n",
    "import seaborn as sns\n",
    "import pandas as pd\n",
    "from sklearn.datasets import load_breast_cancer\n",
    "from sklearn.model_selection import train_test_split\n",
    "from sklearn.metrics import accuracy_score"
   ]
  },
  {
   "cell_type": "code",
   "execution_count": 40,
   "metadata": {},
   "outputs": [],
   "source": [
    "# Load breast cancer dataset\n",
    "data = load_breast_cancer()"
   ]
  },
  {
   "cell_type": "code",
   "execution_count": 41,
   "metadata": {},
   "outputs": [],
   "source": [
    "X = data.data\n",
    "y = data.target\n",
    "# Normalize the features (not using StandardScaler this time)\n",
    "X_norm = (X - X.mean(axis=0)) / X.std(axis=0)\n",
    "# Add a column of ones to represent the bias term\n",
    "X_norm = np.hstack((np.ones((X_norm.shape[0], 1)), X_norm))\n",
    "# Split the dataset into training and testing sets\n",
    "X_train, X_test, y_train, y_test = train_test_split(X_norm, y, test_size=0.2, random_state=42)"
   ]
  },
  {
   "cell_type": "code",
   "execution_count": 42,
   "metadata": {},
   "outputs": [],
   "source": [
    "# Define the cost function\n",
    "def loss(X, y, w):\n",
    "    m = len(y)\n",
    "    h = X @ w\n",
    "    J = (1/(2*m)) * np.sum((h - y)**2)\n",
    "    return J\n",
    "\n",
    "# Define the gradient descent function\n",
    "def gradient_descent(X, y, w, learning_rate, epochs):\n",
    "    m = len(y)\n",
    "    loss_history = np.zeros(epochs)\n",
    "    for i in range(epochs):\n",
    "        h = X @ w\n",
    "        w = w - (learning_rate/m) * (X.T @ (h - y))\n",
    "        loss_history[i] = loss(X, y, w)\n",
    "    return w, loss_history"
   ]
  },
  {
   "cell_type": "code",
   "execution_count": 43,
   "metadata": {},
   "outputs": [
    {
     "data": {
      "image/png": "[encoded data removed]",
      "text/plain": [
       "<Figure size 432x288 with 1 Axes>"
      ]
     },
     "metadata": {
      "needs_background": "light"
     },
     "output_type": "display_data"
    }
   ],
   "source": [
    "# Initialize the parameters and hyperparameters\n",
    "w = np.zeros(X_norm.shape[1])\n",
    "learning_rate = 0.01\n",
    "epochs = 1000\n",
    "\n",
    "# Run gradient descent on the training set\n",
    "w, loss_history = gradient_descent(X_train, y_train, w, learning_rate, epochs)\n",
    "\n",
    "# Plot the cost function over iterations\n",
    "plt.plot(range(epochs), loss_history)\n",
    "plt.xlabel('Iterations')\n",
    "plt.ylabel('Cost')\n",
    "plt.title('Cost vs. Iterations')\n",
    "plt.show()"
   ]
  },
  {
   "cell_type": "code",
   "execution_count": 44,
   "metadata": {},
   "outputs": [
    {
     "name": "stdout",
     "output_type": "stream",
     "text": [
      "Accuracy on test set: 94.74%\n"
     ]
    }
   ],
   "source": [
    "# Evaluate the model on the test set\n",
    "y_pred = np.round(X_test @ w)\n",
    "accuracy = np.mean(y_pred == y_test)\n",
    "print('Accuracy on test set: {:.2f}%'.format(accuracy*100))"
   ]
  }
 ],
 "metadata": {
  "kernelspec": {
   "display_name": "base",
   "language": "python",
   "name": "python3"
  },
  "language_info": {
   "codemirror_mode": {
    "name": "ipython",
    "version": 3
   },
   "file_extension": ".py",
   "mimetype": "text/x-python",
   "name": "python",
   "nbconvert_exporter": "python",
   "pygments_lexer": "ipython3",
   "version": "3.8.5"
  },
  "orig_nbformat": 4,
  "vscode": {
   "interpreter": {
    "hash": "ad2bdc8ecc057115af97d19610ffacc2b4e99fae6737bb82f5d7fb13d2f2c186"
   }
  }
 },
 "nbformat": 4,
 "nbformat_minor": 2
}
