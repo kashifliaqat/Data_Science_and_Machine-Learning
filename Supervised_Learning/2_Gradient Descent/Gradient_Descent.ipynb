{
 "cells": [
  {
   "attachments": {},
   "cell_type": "markdown",
   "metadata": {},
   "source": [
    "# The Gradient Descent Algorithm\n",
    "\n",
    "In this task, gradient descent is implemented from scratch to predict whether a given tumor is benign or malignant based on its characteristics (represented by the various features in the dataset). This is a binary classification problem, where the two classes are represented by the labels 0 and 1.\n",
    "\n",
    "The breast cancer dataset from Scikit-learn is used. The labels 0 and 1 represent the two classes into which the tumors have been classified. Specifically:\n",
    "- Maligent = 0 - tumors that are problematic.\n",
    "- Benign = 1 - tumors that are not usually problematic."
   ]
  },
  {
   "cell_type": "code",
   "execution_count": 1,
   "metadata": {},
   "outputs": [],
   "source": [
    "#import packages\n",
    "import numpy as np\n",
    "import matplotlib.pyplot as plt\n",
    "import seaborn as sns\n",
    "import pandas as pd\n",
    "from sklearn.datasets import load_breast_cancer\n",
    "from sklearn.model_selection import train_test_split\n",
    "from sklearn.metrics import accuracy_score"
   ]
  },
  {
   "attachments": {},
   "cell_type": "markdown",
   "metadata": {},
   "source": [
    "#### Dataset\n",
    "The data set is imported from Scikit-learn. A detailed description and visualization of the cancer dataset is provided in the [Perceptron Notebook](https://github.com/kashifliaqat/Data_Science_and_Machine-Learning/blob/main/Supervised_Learning/1_Perceptron/Perceptron.ipynb)."
   ]
  },
  {
   "cell_type": "code",
   "execution_count": 2,
   "metadata": {},
   "outputs": [],
   "source": [
    "# Load breast cancer dataset\n",
    "data = load_breast_cancer()"
   ]
  },
  {
   "attachments": {},
   "cell_type": "markdown",
   "metadata": {},
   "source": [
    "#### Data splitting and normalization\n",
    "Before model building, the data is separated into features and lables and then into testing and training sets. The data is manually normalized here instead of using StandardScalar from Scikit-learn. "
   ]
  },
  {
   "cell_type": "code",
   "execution_count": 3,
   "metadata": {},
   "outputs": [],
   "source": [
    "#Split labels and features\n",
    "X = data.data\n",
    "y = data.target\n",
    "# Normalize the features \n",
    "X_norm = (X - X.mean(axis=0)) / X.std(axis=0)\n",
    "# Add a column of ones to represent the bias term\n",
    "X_norm = np.hstack((np.ones((X_norm.shape[0], 1)), X_norm))\n",
    "# Split the dataset into training and testing sets\n",
    "X_train, X_test, y_train, y_test = train_test_split(X_norm, y, test_size=0.2, random_state=42)"
   ]
  },
  {
   "attachments": {},
   "cell_type": "markdown",
   "metadata": {},
   "source": [
    "#### Model Building"
   ]
  },
  {
   "cell_type": "code",
   "execution_count": 4,
   "metadata": {},
   "outputs": [],
   "source": [
    "# Define the cost function\n",
    "def loss(X, y, w):\n",
    "    \"\"\"\n",
    "    Calculate the mean squared error (loss)\n",
    "\n",
    "    Parameters\n",
    "    ----------\n",
    "    X : numpy array, shape (m, n)\n",
    "        Matrix of input features, where m is the number of examples and n is the number of features.\n",
    "    y : numpy array, shape (m,)\n",
    "        Vector of output labels.\n",
    "    w : numpy array, shape (n,)\n",
    "        Vector of model parameters.\n",
    "\n",
    "    Returns\n",
    "    -------\n",
    "    J : float\n",
    "        The mean squared error loss between the predicted output and the true output.\n",
    "    \"\"\" \n",
    "    m = len(y)\n",
    "    h = X @ w\n",
    "    J = (1/(2*m)) * np.sum((h - y)**2)\n",
    "    return J\n",
    "\n",
    "\n",
    "# Define the gradient descent function\n",
    "def gradient_descent(X, y, w, learning_rate, epochs):\n",
    "    \"\"\"\n",
    "    Perform gradient descent to learn the parameters of model.\n",
    "\n",
    "    Parameters\n",
    "    ----------\n",
    "    X : numpy array, shape (m, n)\n",
    "        Matrix of input features, where m is the number of examples and n is the number of features.\n",
    "    y : numpy array, shape (m,)\n",
    "        Vector of output labels.\n",
    "    w : numpy array, shape (n,)\n",
    "        Vector of initial model parameters.\n",
    "    learning_rate : float\n",
    "        The step size used to update the model parameters.\n",
    "    epochs : int\n",
    "        The number of iterations to perform gradient descent.\n",
    "\n",
    "    Returns\n",
    "    -------\n",
    "    w : numpy array, shape (n,)\n",
    "        The learned model parameters.\n",
    "    loss_history : numpy array, shape (epochs,)\n",
    "        The history of the loss values during gradient descent\n",
    "    \"\"\"\n",
    "    m = len(y)\n",
    "    loss_history = np.zeros(epochs)\n",
    "    for i in range(epochs):\n",
    "        h = X @ w\n",
    "        w = w - (learning_rate/m) * (X.T @ (h - y))\n",
    "        loss_history[i] = loss(X, y, w)\n",
    "    return w, loss_history\n",
    "\n",
    "def predict(X, w):\n",
    "    \"\"\"\n",
    "    Make predictions using the learned weights\n",
    "    \n",
    "    X : numpy array, shape (m, n)\n",
    "        Matrix of input features, where m is the number of examples and n is the number of features.\n",
    "    w : numpy array, shape (n,)\n",
    "        Vector of initial model parameters.\n",
    "    \n",
    "    Returns\n",
    "    -------\n",
    "    z : numpy array, shape (n,)\n",
    "        The predicted label.\n",
    "\n",
    "    \"\"\"\n",
    "    z = abs(np.round(np.dot(X, w)))\n",
    "    return z\n"
   ]
  },
  {
   "attachments": {},
   "cell_type": "markdown",
   "metadata": {},
   "source": [
    "#### Taining the model\n",
    "The model is trained on the training data. "
   ]
  },
  {
   "cell_type": "code",
   "execution_count": 5,
   "metadata": {},
   "outputs": [
    {
     "data": {
      "image/png": "[encoded data removed]",
      "text/plain": [
       "<Figure size 432x288 with 1 Axes>"
      ]
     },
     "metadata": {
      "needs_background": "light"
     },
     "output_type": "display_data"
    }
   ],
   "source": [
    "# Initialize the parameters and hyperparameters\n",
    "w = np.zeros(X_norm.shape[1])\n",
    "learning_rate = 0.1\n",
    "epochs = 1000\n",
    "\n",
    "# Run gradient descent on the training set\n",
    "w, loss_history = gradient_descent(X_train, y_train, w, learning_rate, epochs)\n",
    "\n",
    "# Plot the cost function over iterations\n",
    "plt.plot(range(epochs), loss_history)\n",
    "plt.xlabel('Iterations')\n",
    "plt.ylabel('Cost')\n",
    "plt.title('Cost vs. Iterations')\n",
    "plt.show()"
   ]
  },
  {
   "attachments": {},
   "cell_type": "markdown",
   "metadata": {},
   "source": [
    "#### Model Evaluation\n",
    "The performance of the model is evaluated using testing data and multiple metrics such as accuracy."
   ]
  },
  {
   "cell_type": "code",
   "execution_count": 6,
   "metadata": {},
   "outputs": [
    {
     "name": "stdout",
     "output_type": "stream",
     "text": [
      "Testing Accuracy: 95.61%\n"
     ]
    }
   ],
   "source": [
    "# Evaluate the model on the test set\n",
    "y_pred = predict(X_test, w)\n",
    "accuracy = accuracy_score(y_test, y_pred)\n",
    "print('Testing Accuracy: {:.2f}%'.format(accuracy*100))"
   ]
  },
  {
   "cell_type": "code",
   "execution_count": 7,
   "metadata": {},
   "outputs": [
    {
     "data": {
      "image/png": "[encoded data removed]",
      "text/plain": [
       "<Figure size 432x288 with 1 Axes>"
      ]
     },
     "metadata": {
      "needs_background": "light"
     },
     "output_type": "display_data"
    }
   ],
   "source": [
    "# Import metrics from sklearn \n",
    "from sklearn import metrics\n",
    "\n",
    "# The confusion matrix\n",
    "confusion_matrix = metrics.confusion_matrix(y_test, y_pred)\n",
    "# Convert confusion matrix into dataframe\n",
    "matrix_df = pd.DataFrame(confusion_matrix)\n",
    "#Plot confusion matrix\n",
    "plt.figure(figsize=(6, 4))\n",
    "ax = plt.axes()\n",
    "sns.set(font_scale=1.3)\n",
    "sns.heatmap(matrix_df,\n",
    "            annot = True, \n",
    "            fmt = \"g\",\n",
    "            ax = ax, \n",
    "            cmap = \"magma\", \n",
    "            cbar = False)\n",
    "ax.set_title(\"Confusion Matrix - Gradient Descent\")\n",
    "ax.set_xlabel(\"Predicted Label\", fontsize=15)\n",
    "ax.set_xticklabels([\"malignant\", \"benign\"])\n",
    "ax.set_ylabel(\"True Label\", fontsize=15)\n",
    "ax.set_yticklabels([\"malignant\", \"benign\"], rotation=0)\n",
    "plt.show()"
   ]
  },
  {
   "cell_type": "code",
   "execution_count": 8,
   "metadata": {},
   "outputs": [
    {
     "name": "stdout",
     "output_type": "stream",
     "text": [
      "              precision    recall  f1-score   support\n",
      "\n",
      "           0       0.97      0.91      0.94        43\n",
      "           1       0.95      0.99      0.97        71\n",
      "\n",
      "    accuracy                           0.96       114\n",
      "   macro avg       0.96      0.95      0.95       114\n",
      "weighted avg       0.96      0.96      0.96       114\n",
      "\n"
     ]
    }
   ],
   "source": [
    "from sklearn.metrics import classification_report\n",
    "#Checking performance our model with classification report.\n",
    "print(classification_report(y_test, y_pred))"
   ]
  },
  {
   "attachments": {},
   "cell_type": "markdown",
   "metadata": {},
   "source": [
    "#### Conclusion\n",
    "The model evaluation shows that gradient descent is capable of predicting the type of tumor with a very high accuracy. A summary of the results obtained is:\n",
    "1. The gradient descent is able to achieve a testing accuracy of 96%.\n",
    "2. The precision of the gradient descent is 97% and 95% respectively for malignant and benign tumors."
   ]
  }
 ],
 "metadata": {
  "kernelspec": {
   "display_name": "base",
   "language": "python",
   "name": "python3"
  },
  "language_info": {
   "codemirror_mode": {
    "name": "ipython",
    "version": 3
   },
   "file_extension": ".py",
   "mimetype": "text/x-python",
   "name": "python",
   "nbconvert_exporter": "python",
   "pygments_lexer": "ipython3",
   "version": "3.8.5"
  },
  "orig_nbformat": 4,
  "vscode": {
   "interpreter": {
    "hash": "ad2bdc8ecc057115af97d19610ffacc2b4e99fae6737bb82f5d7fb13d2f2c186"
   }
  }
 },
 "nbformat": 4,
 "nbformat_minor": 2
}
