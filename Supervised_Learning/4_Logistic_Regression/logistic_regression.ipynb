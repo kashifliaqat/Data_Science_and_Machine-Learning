{
 "cells": [
  {
   "attachments": {},
   "cell_type": "markdown",
   "metadata": {},
   "source": [
    "# Logistic Regression for Breast Cancer Classification\n",
    "\n",
    "This notebook presents the use of logistic regression model to perform binary classification on the breast cancer dataset from the `sklearn.datasets` module. We will build the logistic regression model from scratch."
   ]
  },
  {
   "cell_type": "code",
   "execution_count": 6,
   "metadata": {},
   "outputs": [],
   "source": [
    "#import relevant packages\n",
    "import numpy as np\n",
    "import matplotlib.pyplot as plt\n",
    "import seaborn as sns\n",
    "import pandas as pd\n",
    "from sklearn.model_selection import train_test_split\n",
    "from sklearn.preprocessing import StandardScaler"
   ]
  },
  {
   "attachments": {},
   "cell_type": "markdown",
   "metadata": {},
   "source": [
    "## Dataset\n",
    "First, load the breast cancer dataset using the `load_breast_cancer` function from `sklearn.datasets`. This dataset consists of 569 samples, each with 30 features, and a binary target variable indicating whether the sample is benign or malignant.\n",
    "\n",
    "### Data Exploration \n",
    "Provided in Percenptron.ipynb"
   ]
  },
  {
   "cell_type": "code",
   "execution_count": 7,
   "metadata": {},
   "outputs": [],
   "source": [
    "from sklearn.datasets import load_breast_cancer\n",
    "# Load dataset\n",
    "data = load_breast_cancer()\n",
    "#split target and features\n",
    "X = data.data\n",
    "y = data.target"
   ]
  },
  {
   "attachments": {},
   "cell_type": "markdown",
   "metadata": {},
   "source": [
    "## Logistic Regression Model\n",
    "Next: build logistic regression model from scratch. Logistic regression is a binary classification algorithm that uses a sigmoid function to map the input features to a probability of the positive class.\n",
    "\n",
    "The equation for logistic regression can be written as:\n",
    "\n",
    "$y = \\sigma(w_0 + w_1x_1 + w_2x_2 + \\cdots + w_nx_n)$\n",
    "\n",
    "where $y$ is the predicted class probability, $\\sigma$ is the sigmoid function, $w_0$ is the bias term, $w_1$ to $w_n$ are the weights for the features $x_1$ to $x_n$. The sigmoid function is defined as:\n",
    "\n",
    "$\\sigma(z) = \\frac{1}{1 + e^{-z}}$\n",
    "\n",
    "where $z$ is the linear combination of the weights and features:\n",
    "\n",
    "$z = w_0 + w_1x_1 + w_2x_2 + \\cdots + w_nx_n$"
   ]
  },
  {
   "cell_type": "code",
   "execution_count": 8,
   "metadata": {},
   "outputs": [
    {
     "data": {
      "image/png": "[encoded data removed]",
      "text/plain": [
       "<Figure size 432x288 with 1 Axes>"
      ]
     },
     "metadata": {
      "needs_background": "light"
     },
     "output_type": "display_data"
    }
   ],
   "source": [
    "def sigmoid(x):\n",
    "    return 1 / (1 + np.exp(-x))\n",
    "#Visualize the sigmoid function \n",
    "x = np.linspace(-10, 10, 100)\n",
    "plt.plot(x, sigmoid(x))\n",
    "plt.xlabel('x')\n",
    "plt.ylabel('sigmoid(x)')\n",
    "plt.show()"
   ]
  },
  {
   "attachments": {},
   "cell_type": "markdown",
   "metadata": {},
   "source": [
    "## Loss and Gradient Descent\n",
    "Train the logistic regression model using gradient descent to minimize the loss function.\n",
    "\n",
    "The cost function (cross-entropy loss function) for logistic regression can be written as:\n",
    "\n",
    "$J(w) = -\\frac{1}{m} \\sum_{i=1}^m [y_i\\log(y_{pred_i}) + (1-y_i)\\log(1-y_{pred_i})]$\n",
    "\n",
    "where $m$ is the number of samples, $y_i$ is the true label for sample $i$, $y_{pred_i}$ is the predicted label for sample $i$, and $w$ is the vector of weights. The cost function measures the error between the true labels and the predicted labels, penalizing the model heavily for high-confidence incorrect predictions. The goal of training the logistic regression model is to find the values of the weights that minimize this cost function.\n",
    "\n",
    "## Model Implementation"
   ]
  },
  {
   "cell_type": "code",
   "execution_count": 9,
   "metadata": {},
   "outputs": [],
   "source": [
    "class LogisticRegression:\n",
    "    def __init__(self, lr=0.01, num_iter=100000):\n",
    "        self.lr = lr\n",
    "        self.num_iter = num_iter\n",
    "        self.weights = None\n",
    "        self.bias = None\n",
    "    \n",
    "    def fit(self, X, y):\n",
    "        # Initialize weights and bias\n",
    "        n_samples, n_features = X.shape\n",
    "        self.weights = np.zeros(n_features)\n",
    "        self.bias = 0\n",
    "        \n",
    "        # Gradient descent\n",
    "        for i in range(self.num_iter):\n",
    "            # Linear model\n",
    "            linear_model = np.dot(X, self.weights) + self.bias\n",
    "            # Predictions\n",
    "            y_pred = sigmoid(linear_model)\n",
    "            # Calculate gradients\n",
    "            dw = (1/n_samples) * np.dot(X.T, (y_pred - y))\n",
    "            db = (1/n_samples) * np.sum(y_pred - y)\n",
    "            # Update weights and bias\n",
    "            self.weights -= self.lr * dw\n",
    "            self.bias -= self.lr * db\n",
    "    \n",
    "    def predict(self, X):\n",
    "        linear_model = np.dot(X, self.weights) + self.bias\n",
    "        y_pred = sigmoid(linear_model)\n",
    "        y_pred_class = [1 if i > 0.5 else 0 for i in y_pred]\n",
    "        return y_pred_class"
   ]
  },
  {
   "attachments": {},
   "cell_type": "markdown",
   "metadata": {},
   "source": [
    "## Training and Evaluation\n",
    "To train our logistic regression model, we will split the data into training and testing sets using train_test_split from sklearn.model_selection."
   ]
  },
  {
   "cell_type": "code",
   "execution_count": 10,
   "metadata": {},
   "outputs": [],
   "source": [
    "from sklearn.model_selection import train_test_split\n",
    "\n",
    "# Split data into training and testing sets\n",
    "X_train, X_test, y_train, y_test = train_test_split(X, y, test_size=0.2, random_state=42)"
   ]
  },
  {
   "cell_type": "code",
   "execution_count": 12,
   "metadata": {},
   "outputs": [
    {
     "name": "stderr",
     "output_type": "stream",
     "text": [
      "<ipython-input-8-0132b731e85d>:2: RuntimeWarning: overflow encountered in exp\n",
      "  return 1 / (1 + np.exp(-x))\n"
     ]
    }
   ],
   "source": [
    "# Train model\n",
    "lr = LogisticRegression()\n",
    "lr.fit(X_train, y_train)"
   ]
  },
  {
   "attachments": {},
   "cell_type": "markdown",
   "metadata": {},
   "source": [
    "## Model Evaluation"
   ]
  },
  {
   "cell_type": "code",
   "execution_count": 13,
   "metadata": {},
   "outputs": [
    {
     "name": "stdout",
     "output_type": "stream",
     "text": [
      "Accuracy: 0.956140350877193\n",
      "Confusion matrix:\n",
      "[[41  2]\n",
      " [ 3 68]]\n"
     ]
    },
    {
     "name": "stderr",
     "output_type": "stream",
     "text": [
      "<ipython-input-8-0132b731e85d>:2: RuntimeWarning: overflow encountered in exp\n",
      "  return 1 / (1 + np.exp(-x))\n"
     ]
    }
   ],
   "source": [
    "from sklearn.metrics import accuracy_score, confusion_matrix\n",
    "\n",
    "# Test model\n",
    "y_pred = lr.predict(X_test)\n",
    "acc = accuracy_score(y_test, y_pred)\n",
    "cm = confusion_matrix(y_test, y_pred)\n",
    "\n",
    "print(f\"Accuracy: {acc}\")\n",
    "print(f\"Confusion matrix:\\n{cm}\")"
   ]
  }
 ],
 "metadata": {
  "kernelspec": {
   "display_name": "base",
   "language": "python",
   "name": "python3"
  },
  "language_info": {
   "codemirror_mode": {
    "name": "ipython",
    "version": 3
   },
   "file_extension": ".py",
   "mimetype": "text/x-python",
   "name": "python",
   "nbconvert_exporter": "python",
   "pygments_lexer": "ipython3",
   "version": "3.8.5"
  },
  "orig_nbformat": 4,
  "vscode": {
   "interpreter": {
    "hash": "ad2bdc8ecc057115af97d19610ffacc2b4e99fae6737bb82f5d7fb13d2f2c186"
   }
  }
 },
 "nbformat": 4,
 "nbformat_minor": 2
}
