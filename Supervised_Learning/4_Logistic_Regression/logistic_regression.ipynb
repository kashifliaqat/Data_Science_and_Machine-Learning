{
 "cells": [
  {
   "attachments": {},
   "cell_type": "markdown",
   "metadata": {},
   "source": [
    "# The Logistic Regression Algorithm\n",
    "\n",
    "[![Open In Colab](https://colab.research.google.com/assets/colab-badge.svg)](https://colab.research.google.com/github/kashifliaqat/Data_Science_and_Machine-Learning/blob/main/Supervised_Learning/4_Logistic_Regression/logistic_regression.ipynb)\n",
    "\n",
    "Task: Use single neuron logistic regression model to perform binary classification on the breast cancer dataset from the `sklearn.datasets` module. We will build the logistic regression model from scratch.\n",
    "\n",
    "This is a binary classification problem to predict whether a given tumor is benign or malignant based on its characteristics (represented by the various features in the dataset). \n",
    "The labels 0 and 1 represent the two classes into which the tumors have been classified. Specifically:\n",
    "- Maligent = 0 - tumors that are problematic.\n",
    "- Benign = 1 - tumors that are not usually problematic."
   ]
  },
  {
   "cell_type": "code",
   "execution_count": 24,
   "metadata": {},
   "outputs": [],
   "source": [
    "#import relevant packages\n",
    "import numpy as np\n",
    "import matplotlib.pyplot as plt\n",
    "import seaborn as sns\n",
    "import pandas as pd\n",
    "from sklearn.model_selection import train_test_split\n",
    "from sklearn.preprocessing import StandardScaler"
   ]
  },
  {
   "attachments": {},
   "cell_type": "markdown",
   "metadata": {},
   "source": [
    "#### Dataset\n",
    "First, load the breast cancer dataset using the `load_breast_cancer` function from `sklearn.datasets`. This dataset consists of 569 samples, each with 30 features, and a binary target variable indicating whether the sample is benign or malignant.\n",
    "\n",
    "#### Data Exploration/Visualization \n",
    "A detailed description and visualization of the cancer dataset is provided in the [Perceptron Notebook](https://github.com/kashifliaqat/Data_Science_and_Machine-Learning/blob/main/Supervised_Learning/1_Perceptron/Perceptron.ipynb)."
   ]
  },
  {
   "cell_type": "code",
   "execution_count": 25,
   "metadata": {},
   "outputs": [],
   "source": [
    "from sklearn.datasets import load_breast_cancer\n",
    "# Load dataset\n",
    "data = load_breast_cancer()"
   ]
  },
  {
   "attachments": {},
   "cell_type": "markdown",
   "metadata": {},
   "source": [
    "#### Data Preprocessing\n",
    "- Split data into Features (X) and lables (y)\n",
    "- Normalize the data\n",
    "- Split data into test and train sets"
   ]
  },
  {
   "cell_type": "code",
   "execution_count": 26,
   "metadata": {},
   "outputs": [],
   "source": [
    "#split target and features\n",
    "X = data.data\n",
    "y = data.target\n",
    "# normalize data\n",
    "X = (X - X.mean(axis=0)) / X.std(axis=0)\n",
    "# split data into train and test sets\n",
    "X_train, X_test, y_train, y_test = train_test_split(X, y, test_size=0.2, random_state=42)"
   ]
  },
  {
   "attachments": {},
   "cell_type": "markdown",
   "metadata": {},
   "source": [
    "#### Logistic Regression Model\n",
    "Next: build logistic regression model from scratch. Logistic regression is a binary classification algorithm that uses a sigmoid function to map the input features to a probability of the positive class.\n",
    "\n",
    "The equation for logistic regression can be written as:\n",
    "\n",
    "$y = \\sigma(w_0 + w_1x_1 + w_2x_2 + \\cdots + w_nx_n)$\n",
    "\n",
    "where $y$ is the predicted class probability, $\\sigma$ is the sigmoid function, $w_0$ is the bias term, $w_1$ to $w_n$ are the weights for the features $x_1$ to $x_n$. The sigmoid function is defined as:\n",
    "\n",
    "$\\sigma(z) = \\frac{1}{1 + e^{-z}}$\n",
    "\n",
    "where $z$ is the linear combination of the weights and features:\n",
    "\n",
    "$z = w_0 + w_1x_1 + w_2x_2 + \\cdots + w_nx_n$\n",
    "\n",
    "The following code provides visualization of Sigmoid function with random inputs."
   ]
  },
  {
   "cell_type": "code",
   "execution_count": 27,
   "metadata": {},
   "outputs": [
    {
     "data": {
      "image/png": "[encoded data removed]",
      "text/plain": [
       "<Figure size 432x288 with 1 Axes>"
      ]
     },
     "metadata": {},
     "output_type": "display_data"
    }
   ],
   "source": [
    "def sigmoid(x):\n",
    "    \"\"\"\n",
    "    Compute sigmoid of input array.\n",
    "\n",
    "    Parameters:\n",
    "    -----------\n",
    "    z : array-like, shape (n_samples,)\n",
    "        Input array.\n",
    "\n",
    "    Returns:\n",
    "    --------\n",
    "    sigmoid : array-like, shape (n_samples,)\n",
    "        Sigmoid of input array.\n",
    "\n",
    "    \"\"\"\n",
    "    return 1 / (1 + np.exp(-x))\n",
    "\n",
    "#Visualize the sigmoid function \n",
    "x = np.linspace(-10, 10, 100)\n",
    "plt.plot(x, sigmoid(x))\n",
    "plt.xlabel('x')\n",
    "plt.ylabel('sigmoid(x)')\n",
    "plt.title('Sigmoid Function')\n",
    "plt.show()"
   ]
  },
  {
   "attachments": {},
   "cell_type": "markdown",
   "metadata": {},
   "source": [
    "#### Loss and Gradient Descent\n",
    "Train the logistic regression model using gradient descent to minimize the loss function.\n",
    "\n",
    "The cost function (cross-entropy loss function) for logistic regression can be written as:\n",
    "\n",
    "$J(w) = -\\frac{1}{m} \\sum_{i=1}^m [y_i\\log(y_{pred_i}) + (1-y_i)\\log(1-y_{pred_i})]$\n",
    "\n",
    "where $m$ is the number of samples, $y_i$ is the true label for sample $i$, $y_{pred_i}$ is the predicted label for sample $i$, and $w$ is the vector of weights. The cost function measures the error between the true labels and the predicted labels, penalizing the model heavily for high-confidence incorrect predictions. The goal of training the logistic regression model is to find the values of the weights that minimize this cost function.\n",
    "\n",
    "#### Model Implementation"
   ]
  },
  {
   "cell_type": "code",
   "execution_count": 28,
   "metadata": {},
   "outputs": [],
   "source": [
    "class LogisticRegression:\n",
    "    \"\"\"\n",
    "    Logistic regression implementation using gradient descent.\n",
    "\n",
    "    Parameters:\n",
    "    -----------\n",
    "    learning_rate : float, default=0.01\n",
    "        The learning rate used to update weights and bias during optimization.\n",
    "\n",
    "    num_iterations : int, default=1000\n",
    "        The number of iterations for optimization.\n",
    "\n",
    "    Attributes:\n",
    "    -----------\n",
    "    weights : array-like, shape (n_features,)\n",
    "        The learned weights of the logistic regression model.\n",
    "\n",
    "    bias : float\n",
    "        The learned bias term of the logistic regression model.\n",
    "\n",
    "    losses : list\n",
    "        The training loss for each iteration during optimization.\n",
    "\n",
    "    Methods:\n",
    "    --------\n",
    "    sigmoid(self, z):\n",
    "        Compute sigmoid of input array.\n",
    "\n",
    "    fit(self, X, y):\n",
    "        Fit logistic regression model on training data.\n",
    "\n",
    "    predict(self, X):\n",
    "        Predict the class labels for the input data.\n",
    "    \"\"\"\n",
    "\n",
    "    def __init__(self, learning_rate=0.01, num_iterations=1000):\n",
    "        \"\"\"\n",
    "        Initialize logistic regression model.\n",
    "\n",
    "        Parameters:\n",
    "        -----------\n",
    "        learning_rate : float, default=0.01\n",
    "            The learning rate used to update weights and bias during optimization.\n",
    "\n",
    "        num_iterations : int, default=1000\n",
    "            The number of iterations for optimization.\n",
    "        \"\"\"\n",
    "        self.learning_rate = learning_rate\n",
    "        self.num_iterations = num_iterations\n",
    "        self.weights = None\n",
    "        self.bias = None\n",
    "    \n",
    "    def sigmoid(self, z):\n",
    "        \"\"\"\n",
    "        Compute sigmoid of input array.\n",
    "\n",
    "        Parameters:\n",
    "        -----------\n",
    "        z : array-like, shape (n_samples,)\n",
    "            Input array.\n",
    "\n",
    "        Returns:\n",
    "        --------\n",
    "        sigmoid : array-like, shape (n_samples,)\n",
    "            Sigmoid of input array.\n",
    "        \"\"\"\n",
    "        return 1 / (1 + np.exp(-z))\n",
    "    \n",
    "    def fit(self, X, y):\n",
    "        \"\"\"\n",
    "        Fit logistic regression model on training data.\n",
    "\n",
    "        Parameters:\n",
    "        -----------\n",
    "        X : array-like, shape (n_samples, n_features)\n",
    "            The input data.\n",
    "\n",
    "        y : array-like, shape (n_samples,)\n",
    "            The target values.\n",
    "        \"\"\"\n",
    "\n",
    "        num_samples, num_features = X.shape\n",
    "        \n",
    "        # initialize weights and bias\n",
    "        self.weights = np.zeros(num_features)\n",
    "        self.bias = 0\n",
    "        \n",
    "        # keep track of loss for each iteration\n",
    "        self.losses = []\n",
    "        \n",
    "        for i in range(self.num_iterations):\n",
    "            # forward pass\n",
    "            z = np.dot(X, self.weights) + self.bias\n",
    "            y_pred = self.sigmoid(z)\n",
    "\n",
    "            # compute cost\n",
    "            cost = -np.mean(y*np.log(y_pred) + (1-y)*np.log(1-y_pred))\n",
    "            self.losses.append(cost)\n",
    "\n",
    "            # backward pass\n",
    "            dz = y_pred - y\n",
    "            dw = np.dot(X.T, dz) / num_samples\n",
    "            db = np.mean(dz)\n",
    "\n",
    "            # update weights and bias\n",
    "            self.weights -= self.learning_rate * dw\n",
    "            self.bias -= self.learning_rate * db\n",
    "    \n",
    "    def predict(self, X):\n",
    "        \"\"\"\n",
    "        Predict the class labels for the input data.\n",
    "\n",
    "        Parameters:\n",
    "        -----------\n",
    "        X : array-like, shape (n_samples, n_features)\n",
    "            The input data.\n",
    "\n",
    "        Returns:\n",
    "        --------\n",
    "        y_pred : array-like, shape (n_samples,)\n",
    "            The predicted class labels.\n",
    "        \"\"\"\n",
    "        z = np.dot(X, self.weights) + self.bias\n",
    "        y_pred = self.sigmoid(z)\n",
    "        return (y_pred > 0.5).astype(int)"
   ]
  },
  {
   "attachments": {},
   "cell_type": "markdown",
   "metadata": {},
   "source": [
    "#### Model Training"
   ]
  },
  {
   "cell_type": "code",
   "execution_count": 29,
   "metadata": {},
   "outputs": [],
   "source": [
    "# train model\n",
    "model = LogisticRegression()\n",
    "model.fit(X_train, y_train)"
   ]
  },
  {
   "attachments": {},
   "cell_type": "markdown",
   "metadata": {},
   "source": [
    "#### Performance Evaluation"
   ]
  },
  {
   "cell_type": "code",
   "execution_count": 30,
   "metadata": {},
   "outputs": [
    {
     "name": "stdout",
     "output_type": "stream",
     "text": [
      "Test accuracy: 0.99\n"
     ]
    }
   ],
   "source": [
    "from sklearn.metrics import accuracy_score\n",
    "# make predictions using testing data\n",
    "y_pred = model.predict(X_test)\n",
    "# calculate accuracy and confusion matrix on test set\n",
    "accuracy = accuracy_score(y_test, y_pred)\n",
    "print(f\"Test accuracy: {accuracy:.2f}\")"
   ]
  },
  {
   "cell_type": "code",
   "execution_count": 31,
   "metadata": {},
   "outputs": [
    {
     "data": {
      "image/png": "[encoded data removed]",
      "text/plain": [
       "<Figure size 432x288 with 1 Axes>"
      ]
     },
     "metadata": {},
     "output_type": "display_data"
    }
   ],
   "source": [
    "# Import metrics from sklearn \n",
    "from sklearn import metrics\n",
    "# The confusion matrix\n",
    "confusion_matrix = metrics.confusion_matrix(y_test, y_pred)\n",
    "# Convert confusion matrix into dataframe\n",
    "matrix_df = pd.DataFrame(confusion_matrix)\n",
    "#Plot confusion matrix\n",
    "plt.figure(figsize=(6, 4))\n",
    "ax = plt.axes()\n",
    "sns.set(font_scale=1.3)\n",
    "sns.heatmap(matrix_df,\n",
    "            annot = True, \n",
    "            fmt = \"g\",\n",
    "            ax = ax, \n",
    "            cmap = \"magma\", \n",
    "            cbar = False)\n",
    "ax.set_title(\"Confusion Matrix - Logistic Regression\")\n",
    "ax.set_xlabel(\"Predicted Label\", fontsize=15)\n",
    "ax.set_xticklabels([\"malignant\", \"benign\"])\n",
    "ax.set_ylabel(\"True Label\", fontsize=15)\n",
    "ax.set_yticklabels([\"malignant\", \"benign\"], rotation=0)\n",
    "plt.show()"
   ]
  },
  {
   "attachments": {},
   "cell_type": "markdown",
   "metadata": {},
   "source": [
    "- The confusion matrix shows there's only one false prediction. Which justifies the 99% accuracy."
   ]
  },
  {
   "cell_type": "code",
   "execution_count": 32,
   "metadata": {},
   "outputs": [
    {
     "name": "stdout",
     "output_type": "stream",
     "text": [
      "              precision    recall  f1-score   support\n",
      "\n",
      "           0       1.00      0.98      0.99        43\n",
      "           1       0.99      1.00      0.99        71\n",
      "\n",
      "    accuracy                           0.99       114\n",
      "   macro avg       0.99      0.99      0.99       114\n",
      "weighted avg       0.99      0.99      0.99       114\n",
      "\n"
     ]
    }
   ],
   "source": [
    "from sklearn.metrics import classification_report\n",
    "#Checking performance our model with classification report.\n",
    "print(classification_report(y_test, y_pred))"
   ]
  },
  {
   "attachments": {},
   "cell_type": "markdown",
   "metadata": {},
   "source": [
    "#### ROC Curve\n",
    "A ROC (Receiver Operating Characteristic) curve is a plot of the true positive rate (TPR) against the false positive rate (FPR) at different classification thresholds. The area under the ROC curve (AUC) is a measure of the overall performance of a binary classifier. "
   ]
  },
  {
   "cell_type": "code",
   "execution_count": 33,
   "metadata": {},
   "outputs": [
    {
     "data": {
      "image/png": "[encoded data removed]",
      "text/plain": [
       "<Figure size 432x288 with 1 Axes>"
      ]
     },
     "metadata": {},
     "output_type": "display_data"
    }
   ],
   "source": [
    "# calculate ROC curve and AUC on test set\n",
    "from sklearn.metrics import roc_curve, auc\n",
    "fpr, tpr, thresholds = roc_curve(y_test, y_pred)\n",
    "roc_auc = auc(fpr, tpr)\n",
    "# plot ROC curve\n",
    "plt.figure()\n",
    "plt.plot(fpr, tpr, color='darkorange', lw=2, label='ROC curve (AUC = %0.2f)' % roc_auc)\n",
    "plt.plot([0, 1], [0, 1], color='navy', lw=2, linestyle='--')\n",
    "plt.xlim([0.0, 1.0])\n",
    "plt.ylim([0.0, 1.05])\n",
    "plt.xlabel('False Positive Rate')\n",
    "plt.ylabel('True Positive Rate')\n",
    "plt.title('Receiver operating characteristic')\n",
    "plt.legend(loc=\"lower right\")\n",
    "plt.show()"
   ]
  },
  {
   "attachments": {},
   "cell_type": "markdown",
   "metadata": {},
   "source": [
    "- The high AUC of 0.99 indicates that the classifier has a very high true positive rate and a very low false positive rate. This means that the classifier is able to correctly identify most of the positive cases while keeping the number of false positives very low. Such a classifier would be very useful in applications where the cost of false positives is high, such as medical diagnosis."
   ]
  },
  {
   "attachments": {},
   "cell_type": "markdown",
   "metadata": {},
   "source": [
    "### Conclusion\n",
    "- The logistic regression is found to be very accurate in classifying whether the sample is benign or malignant.\n",
    "- The model's testing accuracy is found to be 99%. \n",
    "- The precision of the gradient descent is 100% and 99% respectively for malignant and benign tumors."
   ]
  }
 ],
 "metadata": {
  "kernelspec": {
   "display_name": "base",
   "language": "python",
   "name": "python3"
  },
  "language_info": {
   "codemirror_mode": {
    "name": "ipython",
    "version": 3
   },
   "file_extension": ".py",
   "mimetype": "text/x-python",
   "name": "python",
   "nbconvert_exporter": "python",
   "pygments_lexer": "ipython3",
   "version": "3.8.5"
  },
  "orig_nbformat": 4,
  "vscode": {
   "interpreter": {
    "hash": "ad2bdc8ecc057115af97d19610ffacc2b4e99fae6737bb82f5d7fb13d2f2c186"
   }
  }
 },
 "nbformat": 4,
 "nbformat_minor": 2
}
