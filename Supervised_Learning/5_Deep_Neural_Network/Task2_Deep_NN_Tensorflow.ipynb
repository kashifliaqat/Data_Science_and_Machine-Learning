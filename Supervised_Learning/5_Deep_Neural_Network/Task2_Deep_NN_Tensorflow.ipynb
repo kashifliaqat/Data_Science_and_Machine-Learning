{
 "cells": [
  {
   "attachments": {},
   "cell_type": "markdown",
   "metadata": {},
   "source": [
    "## Multilayer Perceptron (Deep Neural Network) Using Tensorflow\n",
    "\n",
    "[![Open In Colab](https://colab.research.google.com/assets/colab-badge.svg)](https://colab.research.google.com/github/kashifliaqat/Data_Science_and_Machine-Learning/blob/main/Supervised_Learning/5_Deep_Neural_Network/Task2_Deep_NN_Tensorflow.ipynb)\n",
    "\n",
    "Task: Build a multilayer perceptron using `tensorflow` and `keras` for the [Fashion MNIST](https://www.tensorflow.org/datasets/catalog/fashion_mnist) classification problem. \n",
    "- The Fashion MNIST is multi class problem. The dataset contains 10 classes which represent different fashion products. \n",
    "- The neural network should be able to predict the fashion category of the product when given an image.\n",
    "- A description of each label is given as:\n",
    " \n",
    "**Label:Description**\n",
    "\n",
    "    0:T-shirt/top\n",
    "    1:Trouser\n",
    "    2:Pullover\n",
    "    3:Dress\n",
    "    4:Coat\n",
    "    5:Sandal\n",
    "    6:Shirt\n",
    "    7:Sneaker\n",
    "    8:Bag\n",
    "    9:Ankle boot"
   ]
  },
  {
   "cell_type": "code",
   "execution_count": 9,
   "metadata": {},
   "outputs": [],
   "source": [
    "#Import relevant packages\n",
    "import numpy as np\n",
    "import matplotlib.pyplot as plt\n",
    "from tensorflow import keras\n",
    "from keras.models import Sequential\n",
    "from keras.layers import Dense, Flatten\n",
    "import math"
   ]
  },
  {
   "attachments": {},
   "cell_type": "markdown",
   "metadata": {},
   "source": [
    "#### Import Dataset\n",
    "We'll use `tensorflow.keras.datasets` to import the `fashion_mnist` dataset."
   ]
  },
  {
   "cell_type": "code",
   "execution_count": 10,
   "metadata": {},
   "outputs": [],
   "source": [
    "# Load the dataset\n",
    "# Use the keras module to import the necessary data \n",
    "from tensorflow.keras.datasets import fashion_mnist\n",
    "# load data as test/train and image/label sets\n",
    "(x_train, y_train), (x_test, y_test) = fashion_mnist.load_data()"
   ]
  },
  {
   "attachments": {},
   "cell_type": "markdown",
   "metadata": {},
   "source": [
    "#### Data Visualization/Exploration\n",
    "Detailed information about the dataset and data visualization is provided in the [Task1_Deep_NN_scratch Notebook](https://github.com/kashifliaqat/Data_Science_and_Machine-Learning/blob/main/Supervised_Learning/5_Deep_Neural_Network/Task1_Deep_NN_scratch.ipynb)."
   ]
  },
  {
   "attachments": {},
   "cell_type": "markdown",
   "metadata": {},
   "source": [
    "### Data Preprocessing\n",
    "- The images are grayscale, each pixel value has a range from 0 to 255. The images are normalized by dividing by 255.\n",
    "- The labels are one-hot encoded. A description of one-hot encoding is provided in [Task1_Deep_NN_scratch Notebook](https://github.com/kashifliaqat/Data_Science_and_Machine-Learning/blob/main/Supervised_Learning/5_Deep_Neural_Network/Task1_Deep_NN_scratch.ipynb)."
   ]
  },
  {
   "cell_type": "code",
   "execution_count": 11,
   "metadata": {},
   "outputs": [],
   "source": [
    "# Define class names for the Fashion MNIST dataset\n",
    "class_names = ['T-shirt/top', 'Trouser', 'Pullover', 'Dress', 'Coat',\n",
    "               'Sandal', 'Shirt', 'Sneaker', 'Bag', 'Ankle boot']\n",
    "\n",
    "# Scale pixel values to between 0 and 1\n",
    "x_train = x_train.astype('float32') / 255\n",
    "x_test = x_test.astype('float32') / 255\n",
    "\n",
    "# One-hot encode the labels using keras\n",
    "num_classes = 10\n",
    "y_train = keras.utils.to_categorical(y_train, num_classes)\n",
    "y_test = keras.utils.to_categorical(y_test, num_classes)"
   ]
  },
  {
   "attachments": {},
   "cell_type": "markdown",
   "metadata": {},
   "source": [
    "### Neural Network Architecture\n",
    "In [Task1_Deep_NN_scratch Notebook](https://github.com/kashifliaqat/Data_Science_and_Machine-Learning/blob/main/Supervised_Learning/5_Deep_Neural_Network/Task1_Deep_NN_scratch.ipynb) we implemented the network from scratch. Here we'll use `tensorflow` and `keras` to build the model. \n",
    "\n",
    "#### Implementation\n",
    "We'll use a simple feedforward neural network with two hidden layers, with 128 and 64 nodes and ReLU activation functions. The output layer will have 10 nodes (one for each class) with a softmax activation function.\n",
    "1. The first layer, `Flatten`, transforms the 28x28 input images into a 784-element vector. The output of this layer is then fed into two dense (fully connected) layers, each with a rectified linear unit (ReLU) activation function. The first dense layer has 128 units and the second dense layer has 64 units.\n",
    "2. The final layer is a dense layer with `num_classes` units, where `num_classes` is the number of classes in the Fashion MNIST dataset (10 in this case). This layer uses a softmax activation function to output a probability distribution over the classes.\n",
    "3. The model summary shows the shape of the output of each layer in the model, as well as the number of parameters in each layer. The model has a total of 109,386 trainable parameters."
   ]
  },
  {
   "cell_type": "code",
   "execution_count": 12,
   "metadata": {},
   "outputs": [
    {
     "name": "stdout",
     "output_type": "stream",
     "text": [
      "Model: \"sequential_2\"\n",
      "_________________________________________________________________\n",
      " Layer (type)                Output Shape              Param #   \n",
      "=================================================================\n",
      " flatten_2 (Flatten)         (None, 784)               0         \n",
      "                                                                 \n",
      " dense_6 (Dense)             (None, 128)               100480    \n",
      "                                                                 \n",
      " dense_7 (Dense)             (None, 64)                8256      \n",
      "                                                                 \n",
      " dense_8 (Dense)             (None, 10)                650       \n",
      "                                                                 \n",
      "=================================================================\n",
      "Total params: 109,386\n",
      "Trainable params: 109,386\n",
      "Non-trainable params: 0\n",
      "_________________________________________________________________\n"
     ]
    }
   ],
   "source": [
    "# Define the model architecture\n",
    "model = Sequential()\n",
    "model.add(Flatten(input_shape=(28, 28)))\n",
    "model.add(Dense(128, activation='relu'))\n",
    "model.add(Dense(64, activation='relu'))\n",
    "model.add(Dense(num_classes, activation='softmax'))\n",
    "model.summary()"
   ]
  },
  {
   "attachments": {},
   "cell_type": "markdown",
   "metadata": {},
   "source": [
    "#### Training the model\n",
    "Compile and train the model. Provide a loss plot for training and validation. The validation split indicates that 20% of the training data will be used for validation, and the training progress will be monitored on both the training and validation sets."
   ]
  },
  {
   "cell_type": "code",
   "execution_count": 13,
   "metadata": {},
   "outputs": [
    {
     "name": "stdout",
     "output_type": "stream",
     "text": [
      "Epoch 1/25\n",
      "1500/1500 [==============================] - 3s 2ms/step - loss: 0.0354 - accuracy: 0.7626 - val_loss: 0.0254 - val_accuracy: 0.8280\n",
      "Epoch 2/25\n",
      "1500/1500 [==============================] - 2s 1ms/step - loss: 0.0237 - accuracy: 0.8415 - val_loss: 0.0225 - val_accuracy: 0.8471\n",
      "Epoch 3/25\n",
      "1500/1500 [==============================] - 2s 2ms/step - loss: 0.0217 - accuracy: 0.8534 - val_loss: 0.0215 - val_accuracy: 0.8552\n",
      "Epoch 4/25\n",
      "1500/1500 [==============================] - 2s 2ms/step - loss: 0.0205 - accuracy: 0.8621 - val_loss: 0.0208 - val_accuracy: 0.8576\n",
      "Epoch 5/25\n",
      "1500/1500 [==============================] - 3s 2ms/step - loss: 0.0196 - accuracy: 0.8684 - val_loss: 0.0202 - val_accuracy: 0.8628\n",
      "Epoch 6/25\n",
      "1500/1500 [==============================] - 3s 2ms/step - loss: 0.0189 - accuracy: 0.8739 - val_loss: 0.0203 - val_accuracy: 0.8605\n",
      "Epoch 7/25\n",
      "1500/1500 [==============================] - 3s 2ms/step - loss: 0.0182 - accuracy: 0.8772 - val_loss: 0.0195 - val_accuracy: 0.8683\n",
      "Epoch 8/25\n",
      "1500/1500 [==============================] - 3s 2ms/step - loss: 0.0178 - accuracy: 0.8811 - val_loss: 0.0187 - val_accuracy: 0.8708\n",
      "Epoch 9/25\n",
      "1500/1500 [==============================] - 3s 2ms/step - loss: 0.0172 - accuracy: 0.8846 - val_loss: 0.0186 - val_accuracy: 0.8743\n",
      "Epoch 10/25\n",
      "1500/1500 [==============================] - 3s 2ms/step - loss: 0.0168 - accuracy: 0.8876 - val_loss: 0.0180 - val_accuracy: 0.8788\n",
      "Epoch 11/25\n",
      "1500/1500 [==============================] - 3s 2ms/step - loss: 0.0165 - accuracy: 0.8899 - val_loss: 0.0178 - val_accuracy: 0.8786\n",
      "Epoch 12/25\n",
      "1500/1500 [==============================] - 3s 2ms/step - loss: 0.0161 - accuracy: 0.8935 - val_loss: 0.0180 - val_accuracy: 0.8777\n",
      "Epoch 13/25\n",
      "1500/1500 [==============================] - 3s 2ms/step - loss: 0.0158 - accuracy: 0.8945 - val_loss: 0.0183 - val_accuracy: 0.8761\n",
      "Epoch 14/25\n",
      "1500/1500 [==============================] - 3s 2ms/step - loss: 0.0155 - accuracy: 0.8967 - val_loss: 0.0177 - val_accuracy: 0.8783\n",
      "Epoch 15/25\n",
      "1500/1500 [==============================] - 3s 2ms/step - loss: 0.0152 - accuracy: 0.8987 - val_loss: 0.0174 - val_accuracy: 0.8791\n",
      "Epoch 16/25\n",
      "1500/1500 [==============================] - 3s 2ms/step - loss: 0.0149 - accuracy: 0.9015 - val_loss: 0.0174 - val_accuracy: 0.8818\n",
      "Epoch 17/25\n",
      "1500/1500 [==============================] - 3s 2ms/step - loss: 0.0147 - accuracy: 0.9037 - val_loss: 0.0171 - val_accuracy: 0.8834\n",
      "Epoch 18/25\n",
      "1500/1500 [==============================] - 3s 2ms/step - loss: 0.0144 - accuracy: 0.9053 - val_loss: 0.0178 - val_accuracy: 0.8781\n",
      "Epoch 19/25\n",
      "1500/1500 [==============================] - 3s 2ms/step - loss: 0.0143 - accuracy: 0.9064 - val_loss: 0.0170 - val_accuracy: 0.8837\n",
      "Epoch 20/25\n",
      "1500/1500 [==============================] - 4s 3ms/step - loss: 0.0140 - accuracy: 0.9078 - val_loss: 0.0171 - val_accuracy: 0.8827\n",
      "Epoch 21/25\n",
      "1500/1500 [==============================] - 4s 3ms/step - loss: 0.0138 - accuracy: 0.9099 - val_loss: 0.0171 - val_accuracy: 0.8846\n",
      "Epoch 22/25\n",
      "1500/1500 [==============================] - 3s 2ms/step - loss: 0.0136 - accuracy: 0.9117 - val_loss: 0.0166 - val_accuracy: 0.8863\n",
      "Epoch 23/25\n",
      "1500/1500 [==============================] - 3s 2ms/step - loss: 0.0134 - accuracy: 0.9123 - val_loss: 0.0171 - val_accuracy: 0.8841\n",
      "Epoch 24/25\n",
      "1500/1500 [==============================] - 3s 2ms/step - loss: 0.0133 - accuracy: 0.9133 - val_loss: 0.0169 - val_accuracy: 0.8842\n",
      "Epoch 25/25\n",
      "1500/1500 [==============================] - 3s 2ms/step - loss: 0.0131 - accuracy: 0.9148 - val_loss: 0.0166 - val_accuracy: 0.8887\n"
     ]
    }
   ],
   "source": [
    "# Compile the model\n",
    "model.compile(loss='mse', optimizer=keras.optimizers.Adam(learning_rate=0.0001), metrics=['accuracy'])\n",
    "\n",
    "# Train the model\n",
    "history = model.fit(x_train, y_train, epochs=25, batch_size=32, validation_split=0.2)"
   ]
  },
  {
   "cell_type": "code",
   "execution_count": 14,
   "metadata": {},
   "outputs": [
    {
     "data": {
      "image/png": "[encoded data removed]",
      "text/plain": [
       "<Figure size 432x288 with 1 Axes>"
      ]
     },
     "metadata": {
      "needs_background": "light"
     },
     "output_type": "display_data"
    }
   ],
   "source": [
    "# Plot the training and validation loss over epochs\n",
    "plt.plot(history.history['loss'], label='Training loss')\n",
    "plt.plot(history.history['val_loss'], label='Validation loss')\n",
    "plt.xlabel('Epoch')\n",
    "plt.ylabel('Mean Square Error')\n",
    "plt.legend()\n",
    "plt.show()"
   ]
  },
  {
   "attachments": {},
   "cell_type": "markdown",
   "metadata": {},
   "source": [
    "### Performance Evaluation\n",
    "- Make prediction on testset and calculate testing accuracy\n",
    "- Use a random set of images from the testset to visualize the actual vs predicted comparison"
   ]
  },
  {
   "cell_type": "code",
   "execution_count": 15,
   "metadata": {},
   "outputs": [
    {
     "name": "stdout",
     "output_type": "stream",
     "text": [
      "313/313 [==============================] - 1s 1ms/step - loss: 0.0178 - accuracy: 0.8783\n",
      "Test accuracy: 0.8783000111579895\n"
     ]
    }
   ],
   "source": [
    "# Evaluate the model on the test set\n",
    "test_loss, test_acc = model.evaluate(x_test, y_test)\n",
    "print('Test accuracy:', test_acc)\n",
    "\n",
    "# Make predictions on the test set\n",
    "y_pred = model.predict(x_test)\n",
    "\n",
    "# Convert the predicted one-hot vectors to labels\n",
    "y_pred_labels = np.argmax(y_pred, axis=1)"
   ]
  },
  {
   "cell_type": "code",
   "execution_count": 16,
   "metadata": {},
   "outputs": [
    {
     "data": {
      "image/png": "[encoded data removed]",
      "text/plain": [
       "<Figure size 864x432 with 10 Axes>"
      ]
     },
     "metadata": {},
     "output_type": "display_data"
    }
   ],
   "source": [
    "# Define a function to plot images with their true and predicted labels\n",
    "def plot2(images, y_true, y_pred=None):\n",
    "    fig, axes = plt.subplots(nrows=2, ncols=5, figsize=(12, 6))\n",
    "    for i, ax in enumerate(axes.flat):\n",
    "        # Plot image\n",
    "        x = images[i]\n",
    "        ax.imshow(x, cmap=plt.cm.binary)\n",
    "\n",
    "        # Set title with true label\n",
    "        ax.set_title(f\"Actual: {class_names[np.argmax(y_true[i])]}\")\n",
    "        \n",
    "        # If predicted labels are provided, set subtitle with predicted label\n",
    "        if y_pred is not None:\n",
    "            ax.set_xlabel(f\"Pred: {class_names[y_pred[i]]}\")\n",
    "\n",
    "        ax.set_xticks([])\n",
    "        ax.set_yticks([])\n",
    "\n",
    "    plt.show()\n",
    "    \n",
    "# Choose 10 random images from the test set\n",
    "rand_idxs = np.random.permutation(len(x_test))[:10]\n",
    "\n",
    "# Plot the images with their true and predicted labels\n",
    "plot2(x_test[rand_idxs], y_test[rand_idxs], y_pred_labels[rand_idxs])\n"
   ]
  },
  {
   "attachments": {},
   "cell_type": "markdown",
   "metadata": {},
   "source": [
    "## Conclusion\n",
    "Here we implemented a multilayer feed forward netwrok using `tensorflow.keras` to classify the Fashion MNIST data. The data was scaled and preprocessed before training using techniques such as one-hot encoding. The following are the findings:\n",
    "- The model is able to achieve a testing accuracy of approximately 88%. \n",
    "- 10 random images from the testset were used as a comparison, the model made 9 correct prediction out of 10 images. \n",
    "\n",
    "##### Comparison with MLP from Scratch\n",
    "The comparison of this model with the feed forward netwrok that was developed from scratch in [Task1_Deep_NN_scratch Notebook](https://github.com/kashifliaqat/Data_Science_and_Machine-Learning/blob/main/Supervised_Learning/5_Deep_Neural_Network/Task1_Deep_NN_scratch.ipynb) shows that:\n",
    "- **Testing Accuracy**: Scratch (~86%), Tensorflow (~88%)\n",
    "- **Prediction Comparison**: Correct predictions out of 10 random images; scratch (9), Tensorflow (9)\n",
    "\n",
    "Note: Same results are achieved using both methods for building the model. "
   ]
  }
 ],
 "metadata": {
  "kernelspec": {
   "display_name": "base",
   "language": "python",
   "name": "python3"
  },
  "language_info": {
   "codemirror_mode": {
    "name": "ipython",
    "version": 3
   },
   "file_extension": ".py",
   "mimetype": "text/x-python",
   "name": "python",
   "nbconvert_exporter": "python",
   "pygments_lexer": "ipython3",
   "version": "3.8.5"
  },
  "orig_nbformat": 4
 },
 "nbformat": 4,
 "nbformat_minor": 2
}
